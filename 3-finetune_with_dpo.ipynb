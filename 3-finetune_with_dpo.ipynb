{
 "cells": [
  {
   "cell_type": "markdown",
   "id": "fad57205-9839-4c40-b791-03d60cdc21f5",
   "metadata": {},
   "source": [
    "# Train Model with DPO\n",
    "\n",
    "Code authored by: Khushbu Pandit"
   ]
  },
  {
   "cell_type": "markdown",
   "id": "70487db3-18d6-4e79-93fc-905e714f0cd5",
   "metadata": {},
   "source": [
    "### imports"
   ]
  },
  {
   "cell_type": "code",
   "execution_count": 27,
   "id": "d6b288de-ec97-4cda-bba2-d35fcbc62f8b",
   "metadata": {},
   "outputs": [],
   "source": [
    "from datasets import load_dataset\n",
    "from trl import DPOConfig, DPOTrainer\n",
    "from transformers import AutoModelForCausalLM, AutoTokenizer, pipeline\n",
    "import torch"
   ]
  },
  {
   "cell_type": "markdown",
   "id": "897ecf2d-3ae3-4d6b-9c9d-273f51dbcc21",
   "metadata": {},
   "source": [
    "### load data"
   ]
  },
  {
   "cell_type": "code",
   "execution_count": 30,
   "id": "5bb6e848-eaee-4fd7-8a86-8dc1dcc87711",
   "metadata": {},
   "outputs": [],
   "source": [
    "dataset = load_dataset(\"khushbu3107/youtube-titles-dpo\")"
   ]
  },
  {
   "cell_type": "markdown",
   "id": "558119ea-32a7-4125-84f6-20463821ea3d",
   "metadata": {},
   "source": [
    "### load model"
   ]
  },
  {
   "cell_type": "code",
   "execution_count": 33,
   "id": "a6e7c0fb-7b79-4b1f-8859-e822f087da21",
   "metadata": {},
   "outputs": [],
   "source": [
    "model_name = \"Qwen/Qwen2.5-0.5B-Instruct\"\n",
    "\n",
    "model = AutoModelForCausalLM.from_pretrained(model_name)\n",
    "tokenizer = AutoTokenizer.from_pretrained(model_name)\n",
    "tokenizer.pad_token = tokenizer.eos_token # set pad token"
   ]
  },
  {
   "cell_type": "markdown",
   "id": "6ab8d520-91c9-4c2a-be2e-6b02cafc8418",
   "metadata": {},
   "source": [
    "### generate title with base model"
   ]
  },
  {
   "cell_type": "code",
   "execution_count": 36,
   "id": "7a2d42dc-7eca-4007-aa16-0eee1049f49d",
   "metadata": {},
   "outputs": [],
   "source": [
    "def format_chat_prompt(user_input, system_message=\"You are a helpful assistant.\"):\n",
    "    \"\"\"\n",
    "    Formats user input into the chat template format with <|im_start|> and <|im_end|> tags.\n",
    "\n",
    "    Args:\n",
    "        user_input (str): The input text from the user.\n",
    "\n",
    "    Returns:\n",
    "        str: Formatted prompt for the model.\n",
    "    \"\"\"\n",
    "    \n",
    "    # Format user message\n",
    "    user_prompt = f\"<|im_start|>user\\n{user_input}<|im_end|>\\n\"\n",
    "    \n",
    "    # Start assistant's turn\n",
    "    assistant_prompt = \"<|im_start|>assistant\\n\"\n",
    "    \n",
    "    # Combine prompts\n",
    "    formatted_prompt = user_prompt + assistant_prompt\n",
    "    \n",
    "    return formatted_prompt"
   ]
  },
  {
   "cell_type": "code",
   "execution_count": 38,
   "id": "6535198b-d0ce-4e48-9681-14ed678d55ea",
   "metadata": {},
   "outputs": [
    {
     "name": "stderr",
     "output_type": "stream",
     "text": [
      "Device set to use mps\n"
     ]
    },
    {
     "name": "stdout",
     "output_type": "stream",
     "text": [
      "<|im_start|>user\n",
      "Given the YouTube video idea write an engaging title.\n",
      "\n",
      "**Video Idea**: intro independent component analysis\n",
      "\n",
      "**Additional Guidance**:\n",
      "- Title should be between 30 and 75 characters long\n",
      "- Only return the title idea, nothing else!<|im_end|>\n",
      "<|im_start|>assistant\n",
      "\"Unlocking Independent Component Analysis: A Step-by-Step Guide\"\n"
     ]
    }
   ],
   "source": [
    "# Set up text generation pipeline\n",
    "generator = pipeline(\"text-generation\", model=model, tokenizer=tokenizer, device='mps')\n",
    "\n",
    "# Example prompt\n",
    "prompt = format_chat_prompt(dataset['valid']['prompt'][0][0]['content'])\n",
    "\n",
    "# Generate output\n",
    "outputs = generator(prompt, max_length=100, truncation=True, num_return_sequences=1, temperature=0.7)\n",
    "\n",
    "print(outputs[0]['generated_text'])"
   ]
  },
  {
   "cell_type": "markdown",
   "id": "bdd86db3-dd2b-4f4c-9716-3d5fd88075d8",
   "metadata": {},
   "source": [
    "### train model"
   ]
  },
  {
   "cell_type": "code",
   "execution_count": 45,
   "id": "d6b4e8a7-8860-4726-8783-437e10072e3c",
   "metadata": {},
   "outputs": [],
   "source": [
    "ft_model_name = model_name.split('/')[1].replace(\"Instruct\", \"DPO\")\n",
    "\n",
    "training_args = DPOConfig(\n",
    "    output_dir=ft_model_name, \n",
    "    logging_steps=25,\n",
    "    per_device_train_batch_size=8,\n",
    "    per_device_eval_batch_size=8,\n",
    "    num_train_epochs=3,\n",
    "    load_best_model_at_end=True,\n",
    "    metric_for_best_model=\"eval_loss\",\n",
    "    save_strategy=\"epoch\",\n",
    "    eval_strategy=\"epoch\",\n",
    "    eval_steps=1,\n",
    ")\n",
    "\n",
    "device = torch.device('mps')"
   ]
  },
  {
   "cell_type": "code",
   "execution_count": null,
   "id": "87714294-1cdf-4f55-8040-c7aefbec55e7",
   "metadata": {},
   "outputs": [
    {
     "data": {
      "application/vnd.jupyter.widget-view+json": {
       "model_id": "c2dfd0ecb1f94f068fdfd40618da2481",
       "version_major": 2,
       "version_minor": 0
      },
      "text/plain": [
       "Applying chat template to train dataset:   0%|          | 0/1026 [00:00<?, ? examples/s]"
      ]
     },
     "metadata": {},
     "output_type": "display_data"
    },
    {
     "data": {
      "application/vnd.jupyter.widget-view+json": {
       "model_id": "5c4b1bbaadc549bdb56d1bb8ea7ebc8e",
       "version_major": 2,
       "version_minor": 0
      },
      "text/plain": [
       "Tokenizing train dataset:   0%|          | 0/1026 [00:00<?, ? examples/s]"
      ]
     },
     "metadata": {},
     "output_type": "display_data"
    },
    {
     "name": "stderr",
     "output_type": "stream",
     "text": [
      "Error: command buffer exited with error status.\n",
      "\tThe Metal Performance Shaders operations encoded on it may not have completed.\n",
      "\tError: \n",
      "\t(null)\n",
      "\tInsufficient Memory (00000008:kIOGPUCommandBufferCallbackErrorOutOfMemory)\n",
      "\t<AGXG15XFamilyCommandBuffer: 0x7fa4288bf310>\n",
      "    label = <none> \n",
      "    device = <AGXG15SDevice: 0x7fa45bbeb400>\n",
      "        name = Apple M3 Pro \n",
      "    commandQueue = <AGXG15XFamilyCommandQueue: 0x7fa3f0ce0200>\n",
      "        label = <none> \n",
      "        device = <AGXG15SDevice: 0x7fa45bbeb400>\n",
      "            name = Apple M3 Pro \n",
      "    retainedReferences = 1\n"
     ]
    },
    {
     "data": {
      "text/html": [
       "\n",
       "    <div>\n",
       "      \n",
       "      <progress value='2' max='387' style='width:300px; height:20px; vertical-align: middle;'></progress>\n",
       "      [  2/387 : < :, Epoch 0.01/3]\n",
       "    </div>\n",
       "    <table border=\"1\" class=\"dataframe\">\n",
       "  <thead>\n",
       " <tr style=\"text-align: left;\">\n",
       "      <th>Epoch</th>\n",
       "      <th>Training Loss</th>\n",
       "      <th>Validation Loss</th>\n",
       "    </tr>\n",
       "  </thead>\n",
       "  <tbody>\n",
       "  </tbody>\n",
       "</table><p>"
      ],
      "text/plain": [
       "<IPython.core.display.HTML object>"
      ]
     },
     "metadata": {},
     "output_type": "display_data"
    }
   ],
   "source": [
    "trainer = DPOTrainer(\n",
    "    model=model, \n",
    "    args=training_args, \n",
    "    processing_class=tokenizer, \n",
    "    train_dataset=dataset['train'],\n",
    "    eval_dataset=dataset['valid'],\n",
    ")\n",
    "trainer.train()"
   ]
  },
  {
   "cell_type": "markdown",
   "id": "cbf20be6-48b0-4ae2-96ec-92886bd72bdf",
   "metadata": {},
   "source": [
    "### use fine-tuned model"
   ]
  },
  {
   "cell_type": "code",
   "execution_count": null,
   "id": "bbd6c493-7ad7-4c67-8d95-098641f15acf",
   "metadata": {},
   "outputs": [],
   "source": [
    "# Load the fine-tuned model\n",
    "ft_model = trainer.model"
   ]
  },
  {
   "cell_type": "code",
   "execution_count": null,
   "id": "47134052-877c-4ec8-8c87-18a5827f7a31",
   "metadata": {},
   "outputs": [],
   "source": [
    "# Set up text generation pipeline\n",
    "generator = pipeline(\"text-generation\", model=ft_model, tokenizer=tokenizer, device='mps')\n",
    "\n",
    "# Example prompt\n",
    "prompt = format_chat_prompt(dataset['valid']['prompt'][0][0]['content'])\n",
    "\n",
    "# Generate output\n",
    "outputs = generator(prompt, max_length=100, truncation=True, num_return_sequences=1, temperature=0.7)\n",
    "\n",
    "print(outputs[0]['generated_text'])"
   ]
  },
  {
   "cell_type": "markdown",
   "id": "286014ed-2537-4bfa-ba7c-18616fbf87f5",
   "metadata": {},
   "source": [
    "### push to HF hub"
   ]
  },
  {
   "cell_type": "code",
   "execution_count": 10,
   "id": "c3a08d5e-939e-4b1d-ad6b-f8548b001c30",
   "metadata": {},
   "outputs": [
    {
     "data": {
      "application/vnd.jupyter.widget-view+json": {
       "model_id": "667b175bffd8450a99bbf35d89b10ba3",
       "version_major": 2,
       "version_minor": 0
      },
      "text/plain": [
       "training_args.bin:   0%|          | 0.00/6.20k [00:00<?, ?B/s]"
      ]
     },
     "metadata": {},
     "output_type": "display_data"
    },
    {
     "data": {
      "application/vnd.jupyter.widget-view+json": {
       "model_id": "81d794ee11134a418c13d1b109bee526",
       "version_major": 2,
       "version_minor": 0
      },
      "text/plain": [
       "model.safetensors:   0%|          | 0.00/1.98G [00:00<?, ?B/s]"
      ]
     },
     "metadata": {},
     "output_type": "display_data"
    },
    {
     "data": {
      "application/vnd.jupyter.widget-view+json": {
       "model_id": "e9d632df7ace401088b8314553537ff0",
       "version_major": 2,
       "version_minor": 0
      },
      "text/plain": [
       "Upload 2 LFS files:   0%|          | 0/2 [00:00<?, ?it/s]"
      ]
     },
     "metadata": {},
     "output_type": "display_data"
    },
    {
     "data": {
      "text/plain": [
       "CommitInfo(commit_url='https://huggingface.co/shawhin/Qwen2.5-0.5B-DPO/commit/4f36e42b1a38ef4504cd2cde6f9799ad0ef8a36d', commit_message='shawhin/Qwen2.5-0.5B-DPO', commit_description='', oid='4f36e42b1a38ef4504cd2cde6f9799ad0ef8a36d', pr_url=None, repo_url=RepoUrl('https://huggingface.co/shawhin/Qwen2.5-0.5B-DPO', endpoint='https://huggingface.co', repo_type='model', repo_id='shawhin/Qwen2.5-0.5B-DPO'), pr_revision=None, pr_num=None)"
      ]
     },
     "execution_count": 10,
     "metadata": {},
     "output_type": "execute_result"
    }
   ],
   "source": [
    "model_id = f\"khushbu3107/{ft_model_name}\"\n",
    "trainer.push_to_hub(model_id)"
   ]
  },
  {
   "cell_type": "code",
   "execution_count": 11,
   "id": "1e30762d-0b15-43b4-8657-b1f70d40194b",
   "metadata": {},
   "outputs": [
    {
     "data": {
      "text/plain": [
       "'<|im_start|>user\\nGiven the YouTube video idea write an engaging title.\\n\\n**Video Idea**: intro independent component analysis\\n\\n**Additional Guidance**:\\n- Title should be between 30 and 75 characters long\\n- Only return the title idea, nothing else!<|im_end|>\\n<|im_start|>assistant\\n'"
      ]
     },
     "execution_count": 11,
     "metadata": {},
     "output_type": "execute_result"
    }
   ],
   "source": [
    "format_chat_prompt(dataset['valid']['prompt'][0][0]['content'])"
   ]
  },
  {
   "cell_type": "code",
   "execution_count": null,
   "id": "e1d05e2c-1324-43c8-a67c-e3268261c6b6",
   "metadata": {},
   "outputs": [],
   "source": []
  }
 ],
 "metadata": {
  "kernelspec": {
   "display_name": "Python 3 (ipykernel)",
   "language": "python",
   "name": "python3"
  },
  "language_info": {
   "codemirror_mode": {
    "name": "ipython",
    "version": 3
   },
   "file_extension": ".py",
   "mimetype": "text/x-python",
   "name": "python",
   "nbconvert_exporter": "python",
   "pygments_lexer": "ipython3",
   "version": "3.12.4"
  }
 },
 "nbformat": 4,
 "nbformat_minor": 5
}
