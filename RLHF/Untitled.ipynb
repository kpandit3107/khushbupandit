{
 "cells": [
  {
   "cell_type": "markdown",
   "id": "3539480c-b358-4da6-97e9-575a624fc770",
   "metadata": {},
   "source": [
    "# Generate Synthetic Video Titles"
   ]
  },
  {
   "cell_type": "markdown",
   "id": "db705d9c-73da-48d9-bbec-33308fc64f15",
   "metadata": {},
   "source": [
    "Code Authored by : Khushbu Pandit"
   ]
  },
  {
   "cell_type": "code",
   "execution_count": null,
   "id": "4f483b75-82ca-41ab-9422-1e4b9e52b56f",
   "metadata": {},
   "outputs": [],
   "source": []
  }
 ],
 "metadata": {
  "kernelspec": {
   "display_name": "Python 3 (ipykernel)",
   "language": "python",
   "name": "python3"
  },
  "language_info": {
   "codemirror_mode": {
    "name": "ipython",
    "version": 3
   },
   "file_extension": ".py",
   "mimetype": "text/x-python",
   "name": "python",
   "nbconvert_exporter": "python",
   "pygments_lexer": "ipython3",
   "version": "3.12.4"
  }
 },
 "nbformat": 4,
 "nbformat_minor": 5
}
