





import pandas as pd
import numpy as np
from datasets import DatasetDict, Dataset





df = pd.read_csv('data/idea-title_pairs-preferences.csv')


df.head()





template = lambda idea : f"""Given the YouTube video idea write an engaging title.

**Video Idea**: {idea}

**Additional Guidance**:
- Title should be between 30 and 75 characters long
- Only return the title idea, nothing else!"""


def idea_to_prompt(idea):
    return [{"role": "user", "content": template(idea.lower())}]


df['prompt'] = df['idea'].apply(idea_to_prompt)





def title_to_completion(title):
    return [{"role": "assistant", "content": title}]


# create chosen and rejected columns
df['chosen'] = np.where(df['title_b_preferred'] == 1, df['title_b'].apply(title_to_completion), df['title_a'].apply(title_to_completion))
df['rejected'] = np.where(df['title_b_preferred'] == 1, df['title_a'].apply(title_to_completion), df['title_b'].apply(title_to_completion))


df.iloc[:,-3:].head()


# write data to file
df.to_csv('data/preferences.csv')





# shuffle dataframe
df_shuffled = df.iloc[:,-3:].sample(frac=1, random_state=42).reset_index(drop=True)

# 90-10 split
train_size = int(0.9 * len(df_shuffled))

# slice accordingly
df_train = df_shuffled.iloc[:train_size]
df_valid = df_shuffled.iloc[train_size:]


# Convert the pandas DataFrames back to Hugging Face Datasets
train_ds = Dataset.from_pandas(df_train)
valid_ds = Dataset.from_pandas(df_valid)

# Combine into a DatasetDict
dataset_dict = DatasetDict({
    'train': train_ds,
    'valid': valid_ds,
})


# push data to hub

dataset_dict.push_to_hub("khushbu3107/youtube-titles-dpo")



774778777
