





import csv
import random
from functions import generate_title
from transformers import AutoModelForCausalLM, AutoTokenizer
import pandas as pd

from openai import OpenAI
from dotenv import load_dotenv
import os


# load vars from .env
load_dotenv()

# connect to openai API
client = OpenAI(api_key=os.getenv("OPENAI_API_KEY"))





# Open and read the CSV file
with open('data/ideas.csv', mode='r', encoding='utf-8') as file:
    reader = csv.reader(file)
    next(reader) # skip first line

    # intialize list to store ideas
    idea_list = []
    
    for row in reader:
        idea_list.append(row[0])


# Randomly select 10 ideas
random.seed(0)
random_ideas = random.sample(idea_list, 50)
print(random_ideas)





model = AutoModelForCausalLM.from_pretrained("Qwen/Qwen2-0.5B-Instruct")
tokenizer = AutoTokenizer.from_pretrained("Qwen/Qwen2-0.5B-Instruct")

checkpoint = 258
ft_model = AutoModelForCausalLM.from_pretrained(f"./Qwen2-0.5B-DPO/checkpoint-{checkpoint}")


base_title_list = []
ft_title_list = []

for idea in random_ideas:
    base_title_list.extend(generate_title(idea, model, tokenizer, num_titles=1))
    ft_title_list.extend(generate_title(idea, ft_model, tokenizer, num_titles=1))


df = pd.DataFrame({"base_title":base_title_list, "ft_title":ft_title_list})


df.head()


df.to_csv(f"data/title_eval-checkpoint_{checkpoint}.csv", index=False)



